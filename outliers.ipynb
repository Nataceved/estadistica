{
 "cells": [
  {
   "cell_type": "code",
   "execution_count": 1,
   "metadata": {},
   "outputs": [],
   "source": [
    "import numpy as np\n",
    "import pandas as pd \n",
    "import matplotlib.pylab as plt\n",
    "import seaborn as sns "
   ]
  },
  {
   "cell_type": "code",
   "execution_count": 26,
   "metadata": {},
   "outputs": [
    {
     "data": {
      "text/html": [
       "<div>\n",
       "<style scoped>\n",
       "    .dataframe tbody tr th:only-of-type {\n",
       "        vertical-align: middle;\n",
       "    }\n",
       "\n",
       "    .dataframe tbody tr th {\n",
       "        vertical-align: top;\n",
       "    }\n",
       "\n",
       "    .dataframe thead th {\n",
       "        text-align: right;\n",
       "    }\n",
       "</style>\n",
       "<table border=\"1\" class=\"dataframe\">\n",
       "  <thead>\n",
       "    <tr style=\"text-align: right;\">\n",
       "      <th></th>\n",
       "      <th>resting_blood_pressure</th>\n",
       "      <th>age</th>\n",
       "      <th>max_heart_rate_achieved</th>\n",
       "    </tr>\n",
       "  </thead>\n",
       "  <tbody>\n",
       "    <tr>\n",
       "      <td>0</td>\n",
       "      <td>128</td>\n",
       "      <td>45</td>\n",
       "      <td>170</td>\n",
       "    </tr>\n",
       "    <tr>\n",
       "      <td>1</td>\n",
       "      <td>110</td>\n",
       "      <td>54</td>\n",
       "      <td>158</td>\n",
       "    </tr>\n",
       "    <tr>\n",
       "      <td>2</td>\n",
       "      <td>125</td>\n",
       "      <td>77</td>\n",
       "      <td>162</td>\n",
       "    </tr>\n",
       "    <tr>\n",
       "      <td>3</td>\n",
       "      <td>152</td>\n",
       "      <td>40</td>\n",
       "      <td>181</td>\n",
       "    </tr>\n",
       "    <tr>\n",
       "      <td>4</td>\n",
       "      <td>178</td>\n",
       "      <td>59</td>\n",
       "      <td>0</td>\n",
       "    </tr>\n",
       "    <tr>\n",
       "      <td>5</td>\n",
       "      <td>130</td>\n",
       "      <td>42</td>\n",
       "      <td>150</td>\n",
       "    </tr>\n",
       "    <tr>\n",
       "      <td>6</td>\n",
       "      <td>150</td>\n",
       "      <td>60</td>\n",
       "      <td>157</td>\n",
       "    </tr>\n",
       "    <tr>\n",
       "      <td>7</td>\n",
       "      <td>150</td>\n",
       "      <td>57</td>\n",
       "      <td>112</td>\n",
       "    </tr>\n",
       "    <tr>\n",
       "      <td>8</td>\n",
       "      <td>170</td>\n",
       "      <td>59</td>\n",
       "      <td>140</td>\n",
       "    </tr>\n",
       "    <tr>\n",
       "      <td>9</td>\n",
       "      <td>120</td>\n",
       "      <td>50</td>\n",
       "      <td>158</td>\n",
       "    </tr>\n",
       "  </tbody>\n",
       "</table>\n",
       "</div>"
      ],
      "text/plain": [
       "   resting_blood_pressure  age  max_heart_rate_achieved\n",
       "0                     128   45                      170\n",
       "1                     110   54                      158\n",
       "2                     125   77                      162\n",
       "3                     152   40                      181\n",
       "4                     178   59                        0\n",
       "5                     130   42                      150\n",
       "6                     150   60                      157\n",
       "7                     150   57                      112\n",
       "8                     170   59                      140\n",
       "9                     120   50                      158"
      ]
     },
     "execution_count": 26,
     "metadata": {},
     "output_type": "execute_result"
    }
   ],
   "source": [
    "data = pd.read_csv('HEART - heart 2.csv')\n",
    "data.head(10)"
   ]
  },
  {
   "cell_type": "code",
   "execution_count": 27,
   "metadata": {},
   "outputs": [
    {
     "data": {
      "text/plain": [
       "36.0"
      ]
     },
     "execution_count": 27,
     "metadata": {},
     "output_type": "execute_result"
    }
   ],
   "source": [
    "IQR = data[\"max_heart_rate_achieved\"].quantile(0.75) - data[\"max_heart_rate_achieved\"].quantile(0.25)\n",
    "IQR"
   ]
  },
  {
   "cell_type": "code",
   "execution_count": 28,
   "metadata": {},
   "outputs": [
    {
     "data": {
      "text/plain": [
       "(222.0, 276.0)"
      ]
     },
     "execution_count": 28,
     "metadata": {},
     "output_type": "execute_result"
    }
   ],
   "source": [
    "upper_limit = data[\"max_heart_rate_achieved\"].quantile(0.75) + (IQR * 1.5)\n",
    "upper_limit_extreme = data[\"max_heart_rate_achieved\"].quantile(0.75) + (IQR * 3)\n",
    "upper_limit, upper_limit_extreme"
   ]
  },
  {
   "cell_type": "code",
   "execution_count": 29,
   "metadata": {},
   "outputs": [
    {
     "name": "stdout",
     "output_type": "stream",
     "text": [
      "Total borrowers: 1.0\n",
      "Borrowers that earn > 178k: 0.0\n",
      "Borrowers that earn > 256k: 0.0\n"
     ]
    }
   ],
   "source": [
    "total = np.float(data.shape[0])\n",
    "print('Total borrowers: {}'.format(data[\"max_heart_rate_achieved\"].shape[0]/total))\n",
    "print('Borrowers that earn > 178k: {}'.format(data[data[\"max_heart_rate_achieved\"]>178000].shape[0]/total))\n",
    "print('Borrowers that earn > 256k: {}'.format(data[data[\"max_heart_rate_achieved\"]>256000].shape[0]/total))"
   ]
  },
  {
   "cell_type": "code",
   "execution_count": 12,
   "metadata": {},
   "outputs": [],
   "source": [
    "from scipy import stats"
   ]
  },
  {
   "cell_type": "code",
   "execution_count": 13,
   "metadata": {
    "collapsed": true,
    "jupyter": {
     "outputs_hidden": true
    }
   },
   "outputs": [
    {
     "name": "stdout",
     "output_type": "stream",
     "text": [
      "[[-9.11713661e-02 -2.20354312e-01 -9.58122915e-02]\n",
      " [-1.14164690e-01 -1.00604568e-01 -1.04457371e-01]\n",
      " [-9.50035867e-02  2.05422554e-01 -1.01575678e-01]\n",
      " [-6.05136015e-02 -2.86881947e-01 -8.78876356e-02]\n",
      " [-2.73010232e-02 -3.40769332e-02 -2.18284246e-01]\n",
      " [-8.86165524e-02 -2.60270893e-01 -1.10220757e-01]\n",
      " [-6.30684152e-02 -2.07714061e-02 -1.05177794e-01]\n",
      " [-6.30684152e-02 -6.06879872e-02 -1.37596841e-01]\n",
      " [-3.75202781e-02 -3.40769332e-02 -1.17424989e-01]\n",
      " [-1.01390621e-01 -1.53826677e-01 -1.04457371e-01]\n",
      " [-1.01390621e-01  5.90617562e-02 -1.09500333e-01]\n",
      " [ 1.43660724e+00 -2.60270893e-01 -9.00489054e-02]\n",
      " [-7.58424838e-02  3.24507021e-02 -1.04457371e-01]\n",
      " [-7.83972975e-02 -2.20354312e-01 -1.08779910e-01]\n",
      " [-1.01390621e-01 -3.13493001e-01 -8.71672124e-02]\n",
      " [-7.07328564e-02 -1.53826677e-01 -1.27510915e-01]\n",
      " [-8.86165524e-02 -2.20354312e-01 -9.22101752e-02]\n",
      " [-8.86165524e-02 -2.07714061e-02 -1.14543296e-01]\n",
      " [-8.86165524e-02 -4.33242744e-01 -7.27587471e-02]\n",
      " [-8.09521112e-02 -4.73824602e-02 -1.08779910e-01]\n",
      " [-5.02943467e-02  1.25589391e-01 -1.01575678e-01]\n",
      " [-1.16719503e-01 -1.27215622e-01 -1.12382027e-01]\n",
      " [-1.19274317e-01  7.23672832e-02 -1.15984143e-01]\n",
      " [-5.02943467e-02  5.90617562e-02 -1.18865836e-01]\n",
      " [-5.54039741e-02  1.12283864e-01 -1.15263720e-01]\n",
      " [-1.01390621e-01  8.56728102e-02 -1.35435571e-01]\n",
      " [-9.11713661e-02 -6.06879872e-02 -1.03736947e-01]\n",
      " [-9.11713661e-02 -1.27215622e-01 -8.57263658e-02]\n",
      " [-7.58424838e-02 -2.07714061e-02 -1.06618640e-01]\n",
      " [-1.14164690e-01 -1.40521149e-01 -1.29672185e-01]\n",
      " [-8.86165524e-02 -2.73576420e-01 -9.72531380e-02]\n",
      " [-6.30684152e-02  4.57562291e-02 -1.36155994e-01]\n",
      " [-7.58424838e-02 -1.13910095e-01 -1.06618640e-01]\n",
      " [-2.47462095e-02  3.24507021e-02 -1.07339064e-01]\n",
      " [-1.11609876e-01 -4.73824602e-02 -9.94144078e-02]\n",
      " [-9.88358072e-02 -1.80437731e-01 -8.42855193e-02]\n",
      " [-6.30684152e-02 -6.72742231e-01 -9.36510217e-02]\n",
      " [-9.62809935e-02  5.83964798e-03 -1.00855254e-01]\n",
      " [-1.01390621e-01  1.65505973e-01 -1.31113031e-01]\n",
      " [-9.11713661e-02 -1.27215622e-01 -1.02296101e-01]\n",
      " [-6.30684152e-02 -7.46587906e-03 -1.19586259e-01]\n",
      " [-8.22295181e-02  1.91451750e-02 -9.43714450e-02]\n",
      " [-1.14164690e-01  1.25589391e-01 -1.24629222e-01]\n",
      " [-7.58424838e-02  4.57562291e-02 -1.05177794e-01]\n",
      " [ 1.32411240e+01 -1.00604568e-01 -9.79735613e-02]\n",
      " [-9.62809935e-02 -6.06879872e-02 -1.16704566e-01]\n",
      " [-9.50035867e-02 -1.40521149e-01  9.71854983e-01]\n",
      " [-2.41905375e-01  1.25589391e-01 -1.28231338e-01]\n",
      " [-1.01390621e-01  5.83964798e-03 -1.44080650e-01]\n",
      " [-1.20551724e-01 -2.07048785e-01 -9.43714450e-02]\n",
      " [-7.58424838e-02 -2.07048785e-01 -1.31833455e-01]\n",
      " [-8.86165524e-02 -2.46965366e-01 -1.01575678e-01]\n",
      " [-8.86165524e-02  1.91451750e-02 -1.23188375e-01]\n",
      " [-8.86165524e-02 -7.39935143e-02  1.00268550e+01]\n",
      " [-8.86165524e-02 -7.46587906e-03 -9.65327148e-02]\n",
      " [-8.86165524e-02 -2.33659839e-01 -8.93284822e-02]\n",
      " [-1.14164690e-01 -1.00604568e-01 -1.27510915e-01]\n",
      " [-1.01390621e-01  5.83964798e-03 -1.46962343e-01]\n",
      " [-1.01390621e-01 -2.60270893e-01 -1.01575678e-01]\n",
      " [-1.14164690e-01 -2.33659839e-01 -9.07693287e-02]\n",
      " [-1.07777655e-01  7.23672832e-02 -1.03016524e-01]\n",
      " [-8.86165524e-02 -1.40521149e-01 -1.15984143e-01]\n",
      " [-8.86165524e-02 -7.39935143e-02 -1.44080650e-01]\n",
      " [-1.11609876e-01  5.51366257e-01 -1.18865836e-01]\n",
      " [-1.14164690e-01 -1.53826677e-01 -1.03736947e-01]\n",
      " [ 1.74082168e-02 -3.53409582e-01 -1.05898217e-01]\n",
      " [-8.86165524e-02  1.12283864e-01 -1.39758111e-01]\n",
      " [-1.07777655e-01 -2.46965366e-01 -8.78876356e-02]\n",
      " [-8.22295181e-02 -8.72990413e-02 -1.02296101e-01]\n",
      " [-1.01390621e-01 -1.67132204e-01 -1.18145413e-01]\n",
      " [-1.01390621e-01 -2.33659839e-01 -9.58122915e-02]\n",
      " [-1.11609876e-01 -1.93743258e-01 -1.15263720e-01]\n",
      " [-3.49654644e-02 -1.27215622e-01 -1.01575678e-01]\n",
      " [-1.01390621e-01 -3.26798528e-01 -9.58122915e-02]\n",
      " [-9.37261798e-02 -3.40769332e-02 -1.21747529e-01]\n",
      " [-2.73010232e-02  5.90617562e-02 -9.94144078e-02]\n",
      " [-8.09521112e-02 -1.27215622e-01 -9.65327148e-02]\n",
      " [-9.62809935e-02 -1.00604568e-01 -1.39758111e-01]\n",
      " [-6.94554495e-02 -8.19103029e-01 -1.15984143e-01]\n",
      " [-8.86165524e-02  1.91451750e-02 -1.12382027e-01]\n",
      " [-8.86165524e-02 -1.13910095e-01 -1.08779910e-01]\n",
      " [-1.01390621e-01 -1.00604568e-01 -1.36876417e-01]\n",
      " [-1.14164690e-01 -1.80437731e-01 -9.72531380e-02]\n",
      " [-9.11713661e-02 -4.73824602e-02 -1.24629222e-01]\n",
      " [-8.86165524e-02 -1.40521149e-01 -1.10941180e-01]\n",
      " [-1.03945435e-01 -1.67132204e-01 -1.27510915e-01]\n",
      " [-1.11609876e-01 -2.73576420e-01 -9.43714450e-02]\n",
      " [-7.58424838e-02 -3.40769332e-02 -1.01575678e-01]\n",
      " [-6.30684152e-02 -6.06879872e-02 -9.29305985e-02]\n",
      " [-8.86165524e-02 -8.72990413e-02 -1.06618640e-01]\n",
      " [-8.35069249e-02 -1.67132204e-01 -1.01575678e-01]\n",
      " [-1.26938758e-01  7.23672832e-02 -1.28231338e-01]\n",
      " [-8.22295181e-02 -1.00604568e-01 -9.58122915e-02]\n",
      " [-7.58424838e-02 -2.07714061e-02 -9.58122915e-02]\n",
      " [-1.16719503e-01 -2.33659839e-01 -9.22101752e-02]\n",
      " [-1.03945435e-01  8.56728102e-02 -1.09500333e-01]\n",
      " [-6.94554495e-02  3.24507021e-02 -1.23188375e-01]\n",
      " [-5.02943467e-02  9.89783373e-02 -1.23908799e-01]\n",
      " [-5.66813809e-02  4.57562291e-02 -1.11661603e-01]\n",
      " [-6.30684152e-02 -4.73824602e-02 -1.01575678e-01]\n",
      " [-7.58424838e-02 -3.00187474e-01 -8.71672124e-02]\n",
      " [-7.58424838e-02 -7.39935143e-02 -1.08059487e-01]\n",
      " [-1.14164690e-01 -3.40769332e-02 -1.15984143e-01]\n",
      " [-2.52124630e-01 -1.40521149e-01 -1.15984143e-01]\n",
      " [-7.58424838e-02  3.24507021e-02 -1.22467952e-01]\n",
      " [-8.86165524e-02  3.24507021e-02 -1.30392608e-01]\n",
      " [-6.30684152e-02 -1.00604568e-01 -9.94144078e-02]\n",
      " [-5.02943467e-02 -8.72990413e-02 -1.13822873e-01]\n",
      " [-9.50035867e-02 -1.40521149e-01 -1.28231338e-01]\n",
      " [-9.62809935e-02 -1.80437731e-01 -9.86939846e-02]\n",
      " [-9.11713661e-02  3.24507021e-02 -1.42639804e-01]\n",
      " [-1.01390621e-01 -1.53826677e-01 -1.01575678e-01]\n",
      " [-7.58424838e-02 -1.40521149e-01 -1.30392608e-01]\n",
      " [-2.47462095e-02  8.56728102e-02 -1.10220757e-01]\n",
      " [-1.11609876e-01 -2.73576420e-01 -8.93284822e-02]\n",
      " [-7.58424838e-02 -4.73824602e-02 -9.94144078e-02]\n",
      " [-8.22295181e-02 -2.73576420e-01 -1.23188375e-01]\n",
      " [-1.14164690e-01 -2.73576420e-01 -1.04457371e-01]\n",
      " [-8.60617387e-02  1.24997295e+01 -1.23188375e-01]\n",
      " [-7.83972975e-02  5.83964798e-03 -1.41919380e-01]\n",
      " [-7.83972975e-02  4.57562291e-02 -9.29305985e-02]\n",
      " [-2.39350562e-01 -3.66715109e-01 -7.99629797e-02]\n",
      " [-7.58424838e-02 -6.06879872e-02 -1.11661603e-01]\n",
      " [-8.86165524e-02 -1.13910095e-01 -9.36510217e-02]\n",
      " [-5.02943467e-02  7.23672832e-02 -1.40478534e-01]\n",
      " [-5.02943467e-02  4.57562291e-02 -1.09500333e-01]\n",
      " [-1.24383944e-01 -2.60270893e-01 -1.30392608e-01]\n",
      " [-1.01390621e-01 -1.00604568e-01 -1.12382027e-01]\n",
      " [-6.94554495e-02  1.12283864e-01 -1.28231338e-01]\n",
      " [-1.01390621e-01  3.24507021e-02  8.73225436e+00]\n",
      " [-1.34603199e-01 -1.40521149e-01 -1.07339064e-01]\n",
      " [-1.26938758e-01 -4.73824602e-02 -1.30392608e-01]\n",
      " [-8.86165524e-02 -2.73576420e-01 -9.43714450e-02]\n",
      " [ 1.02400482e+00 -4.73824602e-02 -9.36510217e-02]\n",
      " [-9.50035867e-02 -4.73824602e-02 -9.50918682e-02]\n",
      " [-1.01390621e-01  4.26360830e+00 -1.17424989e-01]\n",
      " [-8.86165524e-02 -1.80437731e-01 -1.10220757e-01]\n",
      " [-6.30684152e-02  5.83964798e-03 -1.07339064e-01]\n",
      " [-7.58424838e-02 -2.33659839e-01 -8.86080589e-02]\n",
      " [-8.86165524e-02 -2.33659839e-01 -8.28446728e-02]\n",
      " [-7.58424838e-02 -8.72990413e-02 -1.38317264e-01]\n",
      " [-1.01390621e-01 -7.39935143e-02 -1.01575678e-01]\n",
      " [-1.01390621e-01 -2.33659839e-01 -9.36510217e-02]\n",
      " [-1.14164690e-01 -2.86881947e-01 -1.36155994e-01]\n",
      " [-9.11713661e-02 -4.73824602e-02 -1.23908799e-01]\n",
      " [-7.58424838e-02  1.91451750e-02 -8.93284822e-02]\n",
      " [-7.58424838e-02 -2.86881947e-01 -9.00489054e-02]\n",
      " [-8.35069249e-02 -7.46587906e-03 -1.13822873e-01]\n",
      " [-1.16719503e-01 -1.93743258e-01 -1.08779910e-01]\n",
      " [-9.11713661e-02 -6.06879872e-02 -1.10220757e-01]\n",
      " [-1.16719503e-01 -1.00604568e-01 -1.05898217e-01]\n",
      " [-9.50035867e-02 -1.00604568e-01 -1.08779910e-01]\n",
      " [-1.01390621e-01 -3.53409582e-01 -1.24629222e-01]\n",
      " [-1.11609876e-01 -2.33659839e-01 -1.08059487e-01]\n",
      " [-8.86165524e-02  5.83964798e-03 -1.48403190e-01]\n",
      " [-5.02943467e-02 -3.40769332e-02 -1.28231338e-01]\n",
      " [-7.58424838e-02  9.89783373e-02 -1.09500333e-01]\n",
      " [-8.86165524e-02 -1.80437731e-01 -1.18145413e-01]\n",
      " [-1.01390621e-01 -2.33659839e-01 -9.65327148e-02]\n",
      " [-8.86165524e-02 -2.07714061e-02 -1.23188375e-01]\n",
      " [-8.86165524e-02 -1.67132204e-01 -9.50918682e-02]\n",
      " [-1.05222842e-01 -2.07714061e-02 -1.03016524e-01]\n",
      " [-5.02943467e-02  5.83964798e-03 -1.13822873e-01]\n",
      " [-7.32876701e-02 -2.20354312e-01 -1.12382027e-01]\n",
      " [-7.32876701e-02 -1.13910095e-01 -1.38317264e-01]\n",
      " [-6.05136015e-02  7.23672832e-02 -9.43714450e-02]\n",
      " [-8.60617387e-02 -6.06879872e-02 -9.72531380e-02]\n",
      " [-1.01390621e-01 -2.07048785e-01 -1.14543296e-01]\n",
      " [-6.94554495e-02  1.91451750e-02 -1.10220757e-01]\n",
      " [-1.14164690e-01  3.24507021e-02 -1.14543296e-01]\n",
      " [-6.30684152e-02 -4.73824602e-02 -1.38317264e-01]\n",
      " [-1.11609876e-01  5.90617562e-02 -1.23188375e-01]\n",
      " [-1.03945435e-01 -3.00187474e-01 -1.17424989e-01]\n",
      " [-7.58424838e-02 -1.40521149e-01 -9.36510217e-02]\n",
      " [-7.58424838e-02 -1.00604568e-01 -1.03016524e-01]\n",
      " [-9.50035867e-02  7.23672832e-02 -1.00855254e-01]\n",
      " [-2.47462095e-02 -8.72990413e-02 -2.17563823e-01]\n",
      " [-9.50035867e-02  3.24507021e-02 -1.23908799e-01]\n",
      " [-9.62809935e-02 -1.80437731e-01 -9.22101752e-02]\n",
      " [-5.02943467e-02 -1.00604568e-01 -1.00855254e-01]]\n"
     ]
    }
   ],
   "source": [
    "z = stats.zscore(data)\n",
    "print(z)"
   ]
  },
  {
   "cell_type": "code",
   "execution_count": 14,
   "metadata": {},
   "outputs": [
    {
     "name": "stdout",
     "output_type": "stream",
     "text": [
      "(array([ 44,  53, 118, 129, 135], dtype=int64), array([0, 2, 1, 2, 1], dtype=int64))\n"
     ]
    }
   ],
   "source": [
    "threshold = 3\n",
    "print(np.where(z > 3))"
   ]
  },
  {
   "cell_type": "code",
   "execution_count": 43,
   "metadata": {},
   "outputs": [
    {
     "data": {
      "image/png": "[encoded data removed]",
      "text/plain": [
       "<Figure size 432x288 with 4 Axes>"
      ]
     },
     "metadata": {
      "needs_background": "light"
     },
     "output_type": "display_data"
    }
   ],
   "source": [
    "fig = data.hist(bins=5)"
   ]
  },
  {
   "cell_type": "code",
   "execution_count": 49,
   "metadata": {},
   "outputs": [
    {
     "data": {
      "text/plain": [
       "<function matplotlib.pyplot.show(*args, **kw)>"
      ]
     },
     "execution_count": 49,
     "metadata": {},
     "output_type": "execute_result"
    },
    {
     "data": {
      "image/png": "[encoded data removed]",
      "text/plain": [
       "<Figure size 432x288 with 1 Axes>"
      ]
     },
     "metadata": {
      "needs_background": "light"
     },
     "output_type": "display_data"
    }
   ],
   "source": [
    "fig, ax = plt.subplots()\n",
    "ax.scatter(data.age, data.max_heart_rate_achieved)\n",
    "plt.show"
   ]
  },
  {
   "cell_type": "code",
   "execution_count": 50,
   "metadata": {},
   "outputs": [],
   "source": [
    "index = data[(data >= 256000)].index\n",
    "data.drop(index, inplace=True)"
   ]
  },
  {
   "cell_type": "code",
   "execution_count": null,
   "metadata": {},
   "outputs": [],
   "source": []
  }
 ],
 "metadata": {
  "kernelspec": {
   "display_name": "Python 3",
   "language": "python",
   "name": "python3"
  },
  "language_info": {
   "codemirror_mode": {
    "name": "ipython",
    "version": 3
   },
   "file_extension": ".py",
   "mimetype": "text/x-python",
   "name": "python",
   "nbconvert_exporter": "python",
   "pygments_lexer": "ipython3",
   "version": "3.7.4"
  }
 },
 "nbformat": 4,
 "nbformat_minor": 4
}
